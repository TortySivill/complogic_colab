{
  "nbformat": 4,
  "nbformat_minor": 0,
  "metadata": {
    "colab": {
      "name": "demo_colab.ipynb",
      "provenance": [],
      "collapsed_sections": [],
      "authorship_tag": "ABX9TyM2ipupMCdHzzQJLBBi4x20",
      "include_colab_link": true
    },
    "kernelspec": {
      "name": "python3",
      "display_name": "Python 3"
    },
    "language_info": {
      "name": "python"
    }
  },
  "cells": [
    {
      "cell_type": "markdown",
      "metadata": {
        "id": "view-in-github",
        "colab_type": "text"
      },
      "source": [
        "<a href=\"https://colab.research.google.com/github/TortySivill/complogic_colab/blob/main/demo_colab.ipynb\" target=\"_parent\"><img src=\"https://colab.research.google.com/assets/colab-badge.svg\" alt=\"Open In Colab\"/></a>"
      ]
    },
    {
      "cell_type": "code",
      "metadata": {
        "colab": {
          "base_uri": "https://localhost:8080/"
        },
        "id": "IzsSmvsODNEd",
        "outputId": "04fa2eb6-c135-429f-8244-7a66e006cc4c"
      },
      "source": [
        "!git clone https://github.com/TortySivill/complogic_colab.git"
      ],
      "execution_count": 26,
      "outputs": [
        {
          "output_type": "stream",
          "name": "stdout",
          "text": [
            "\n",
            "Cloning into 'complogic_colab'...\n",
            "remote: Enumerating objects: 282, done.\u001b[K\n",
            "remote: Counting objects: 100% (282/282), done.\u001b[K\n",
            "remote: Compressing objects: 100% (133/133), done.\u001b[K\n",
            "remote: Total 282 (delta 138), reused 271 (delta 131), pack-reused 0\u001b[K\n",
            "Receiving objects: 100% (282/282), 87.45 KiB | 8.74 MiB/s, done.\n",
            "Resolving deltas: 100% (138/138), done.\n"
          ]
        }
      ]
    },
    {
      "cell_type": "code",
      "metadata": {
        "colab": {
          "base_uri": "https://localhost:8080/"
        },
        "id": "Rf7DEpBB5Mjq",
        "outputId": "fbe6dbb2-1a3e-400c-d383-13c613e77662"
      },
      "source": [
        "cd complogic_colab"
      ],
      "execution_count": 27,
      "outputs": [
        {
          "output_type": "stream",
          "name": "stdout",
          "text": [
            "/content/complogic_colab/complogic_colab/prolexa/complogic_colab\n"
          ]
        }
      ]
    },
    {
      "cell_type": "code",
      "metadata": {
        "colab": {
          "base_uri": "https://localhost:8080/"
        },
        "id": "lnXrmTYy5QR2",
        "outputId": "b53d161e-bfc7-4c5a-8423-4394d2cb3cb4"
      },
      "source": [
        "!apt-get install swi-prolog"
      ],
      "execution_count": 28,
      "outputs": [
        {
          "output_type": "stream",
          "name": "stdout",
          "text": [
            "Reading package lists... Done\n",
            "Building dependency tree       \n",
            "Reading state information... Done\n",
            "swi-prolog is already the newest version (7.6.4+dfsg-1build1).\n",
            "0 upgraded, 0 newly installed, 0 to remove and 40 not upgraded.\n"
          ]
        }
      ]
    },
    {
      "cell_type": "code",
      "metadata": {
        "colab": {
          "base_uri": "https://localhost:8080/"
        },
        "id": "OEkEjOZc5Y45",
        "outputId": "4488c3dd-3b48-4f42-a8db-3b5a2dc644ed"
      },
      "source": [
        "!swipl prolexa.pl"
      ],
      "execution_count": 29,
      "outputs": [
        {
          "output_type": "stream",
          "name": "stdout",
          "text": [
            "Welcome to SWI-Prolog (threaded, 64 bits, version 7.6.4)\n",
            "SWI-Prolog comes with ABSOLUTELY NO WARRANTY. This is free software.\n",
            "Please run ?- license. for legal details.\n",
            "\n",
            "For online help and background, visit http://www.swi-prolog.org\n",
            "For built-in help, use ?- help(Topic). or ?- apropos(Word).\n",
            "\n",
            "?- prolexa_cli.\n",
            "prolexa> \"Tell me everything you know\"\u001b[29D\u001b[29C.\n",
            "*** utterance(Tell me everything you know)\n",
            "*** goal(all_rules(_4784))\n",
            "*** answer(every human is mortal. peter is human)\n",
            "every human is mortal. peter is human\n",
            "prolexa> ^C\n",
            "^C\n",
            "\n",
            "WARNING: By typing Control-C twice, you have forced an asynchronous\n",
            "WARNING: interrupt.  Your only SAFE operations are: c(ontinue), p(id),\n",
            "WARNING: s(stack) and e(xit).  Notably a(abort) often works, but\n",
            "WARNING: leaves the system in an UNSTABLE state\n",
            "\n",
            "Action (h for help) ? exit\n"
          ]
        }
      ]
    },
    {
      "cell_type": "code",
      "metadata": {
        "id": "9OegxnmmCgP8",
        "colab": {
          "base_uri": "https://localhost:8080/"
        },
        "outputId": "fad955f9-b34b-495f-d37c-5380ec506f3c"
      },
      "source": [
        "!git checkout prolexa-plus"
      ],
      "execution_count": 30,
      "outputs": [
        {
          "output_type": "stream",
          "name": "stdout",
          "text": [
            "Branch 'prolexa-plus' set up to track remote branch 'prolexa-plus' from 'origin'.\n",
            "Switched to a new branch 'prolexa-plus'\n"
          ]
        }
      ]
    },
    {
      "cell_type": "code",
      "metadata": {
        "colab": {
          "base_uri": "https://localhost:8080/"
        },
        "id": "rV5IwtBzkBQd",
        "outputId": "19db358d-353c-43e4-fa7b-4910b657f966"
      },
      "source": [
        "!pip install -e."
      ],
      "execution_count": 31,
      "outputs": [
        {
          "output_type": "stream",
          "name": "stdout",
          "text": [
            "Obtaining file:///content/complogic_colab/complogic_colab/prolexa/complogic_colab\n",
            "Requirement already satisfied: contractions>=0.0.24 in /usr/local/lib/python3.7/dist-packages (from prolexa==0.0.1) (0.0.52)\n",
            "Requirement already satisfied: flair>=0.5 in /usr/local/lib/python3.7/dist-packages (from prolexa==0.0.1) (0.9)\n",
            "Requirement already satisfied: nltk>=3.5 in /usr/local/lib/python3.7/dist-packages (from prolexa==0.0.1) (3.6.2)\n",
            "Requirement already satisfied: pyswip>=0.2.9 in /usr/local/lib/python3.7/dist-packages (from prolexa==0.0.1) (0.2.10)\n",
            "Requirement already satisfied: textsearch>=0.0.21 in /usr/local/lib/python3.7/dist-packages (from contractions>=0.0.24->prolexa==0.0.1) (0.0.21)\n",
            "Requirement already satisfied: segtok>=1.5.7 in /usr/local/lib/python3.7/dist-packages (from flair>=0.5->prolexa==0.0.1) (1.5.10)\n",
            "Requirement already satisfied: gensim<=3.8.3,>=3.4.0 in /usr/local/lib/python3.7/dist-packages (from flair>=0.5->prolexa==0.0.1) (3.6.0)\n",
            "Requirement already satisfied: sqlitedict>=1.6.0 in /usr/local/lib/python3.7/dist-packages (from flair>=0.5->prolexa==0.0.1) (1.7.0)\n",
            "Requirement already satisfied: langdetect in /usr/local/lib/python3.7/dist-packages (from flair>=0.5->prolexa==0.0.1) (1.0.9)\n",
            "Requirement already satisfied: tqdm>=4.26.0 in /usr/local/lib/python3.7/dist-packages (from flair>=0.5->prolexa==0.0.1) (4.62.0)\n",
            "Requirement already satisfied: regex in /usr/local/lib/python3.7/dist-packages (from flair>=0.5->prolexa==0.0.1) (2019.12.20)\n",
            "Requirement already satisfied: wikipedia-api in /usr/local/lib/python3.7/dist-packages (from flair>=0.5->prolexa==0.0.1) (0.5.4)\n",
            "Requirement already satisfied: tabulate in /usr/local/lib/python3.7/dist-packages (from flair>=0.5->prolexa==0.0.1) (0.8.9)\n",
            "Requirement already satisfied: transformers>=4.0.0 in /usr/local/lib/python3.7/dist-packages (from flair>=0.5->prolexa==0.0.1) (4.10.0)\n",
            "Requirement already satisfied: janome in /usr/local/lib/python3.7/dist-packages (from flair>=0.5->prolexa==0.0.1) (0.4.1)\n",
            "Requirement already satisfied: torch!=1.8,>=1.5.0 in /usr/local/lib/python3.7/dist-packages (from flair>=0.5->prolexa==0.0.1) (1.9.0+cu102)\n",
            "Requirement already satisfied: gdown==3.12.2 in /usr/local/lib/python3.7/dist-packages (from flair>=0.5->prolexa==0.0.1) (3.12.2)\n",
            "Requirement already satisfied: bpemb>=0.3.2 in /usr/local/lib/python3.7/dist-packages (from flair>=0.5->prolexa==0.0.1) (0.3.3)\n",
            "Requirement already satisfied: hyperopt>=0.1.1 in /usr/local/lib/python3.7/dist-packages (from flair>=0.5->prolexa==0.0.1) (0.1.2)\n",
            "Requirement already satisfied: python-dateutil>=2.6.1 in /usr/local/lib/python3.7/dist-packages (from flair>=0.5->prolexa==0.0.1) (2.8.2)\n",
            "Requirement already satisfied: konoha<5.0.0,>=4.0.0 in /usr/local/lib/python3.7/dist-packages (from flair>=0.5->prolexa==0.0.1) (4.6.5)\n",
            "Requirement already satisfied: deprecated>=1.2.4 in /usr/local/lib/python3.7/dist-packages (from flair>=0.5->prolexa==0.0.1) (1.2.13)\n",
            "Requirement already satisfied: matplotlib>=2.2.3 in /usr/local/lib/python3.7/dist-packages (from flair>=0.5->prolexa==0.0.1) (3.2.2)\n",
            "Requirement already satisfied: scikit-learn>=0.21.3 in /usr/local/lib/python3.7/dist-packages (from flair>=0.5->prolexa==0.0.1) (0.22.2.post1)\n",
            "Requirement already satisfied: lxml in /usr/local/lib/python3.7/dist-packages (from flair>=0.5->prolexa==0.0.1) (4.2.6)\n",
            "Requirement already satisfied: ftfy in /usr/local/lib/python3.7/dist-packages (from flair>=0.5->prolexa==0.0.1) (6.0.3)\n",
            "Requirement already satisfied: sentencepiece==0.1.95 in /usr/local/lib/python3.7/dist-packages (from flair>=0.5->prolexa==0.0.1) (0.1.95)\n",
            "Requirement already satisfied: mpld3==0.3 in /usr/local/lib/python3.7/dist-packages (from flair>=0.5->prolexa==0.0.1) (0.3)\n",
            "Requirement already satisfied: more-itertools~=8.8.0 in /usr/local/lib/python3.7/dist-packages (from flair>=0.5->prolexa==0.0.1) (8.8.0)\n",
            "Requirement already satisfied: huggingface-hub in /usr/local/lib/python3.7/dist-packages (from flair>=0.5->prolexa==0.0.1) (0.0.16)\n",
            "Requirement already satisfied: conllu>=4.0 in /usr/local/lib/python3.7/dist-packages (from flair>=0.5->prolexa==0.0.1) (4.4.1)\n",
            "Requirement already satisfied: requests[socks] in /usr/local/lib/python3.7/dist-packages (from gdown==3.12.2->flair>=0.5->prolexa==0.0.1) (2.26.0)\n",
            "Requirement already satisfied: filelock in /usr/local/lib/python3.7/dist-packages (from gdown==3.12.2->flair>=0.5->prolexa==0.0.1) (3.0.12)\n",
            "Requirement already satisfied: six in /usr/local/lib/python3.7/dist-packages (from gdown==3.12.2->flair>=0.5->prolexa==0.0.1) (1.15.0)\n",
            "Requirement already satisfied: numpy in /usr/local/lib/python3.7/dist-packages (from bpemb>=0.3.2->flair>=0.5->prolexa==0.0.1) (1.19.5)\n",
            "Requirement already satisfied: wrapt<2,>=1.10 in /usr/local/lib/python3.7/dist-packages (from deprecated>=1.2.4->flair>=0.5->prolexa==0.0.1) (1.12.1)\n",
            "Requirement already satisfied: scipy>=0.18.1 in /usr/local/lib/python3.7/dist-packages (from gensim<=3.8.3,>=3.4.0->flair>=0.5->prolexa==0.0.1) (1.4.1)\n",
            "Requirement already satisfied: smart-open>=1.2.1 in /usr/local/lib/python3.7/dist-packages (from gensim<=3.8.3,>=3.4.0->flair>=0.5->prolexa==0.0.1) (5.1.0)\n",
            "Requirement already satisfied: networkx in /usr/local/lib/python3.7/dist-packages (from hyperopt>=0.1.1->flair>=0.5->prolexa==0.0.1) (2.6.2)\n",
            "Requirement already satisfied: pymongo in /usr/local/lib/python3.7/dist-packages (from hyperopt>=0.1.1->flair>=0.5->prolexa==0.0.1) (3.12.0)\n",
            "Requirement already satisfied: future in /usr/local/lib/python3.7/dist-packages (from hyperopt>=0.1.1->flair>=0.5->prolexa==0.0.1) (0.16.0)\n",
            "Requirement already satisfied: overrides<4.0.0,>=3.0.0 in /usr/local/lib/python3.7/dist-packages (from konoha<5.0.0,>=4.0.0->flair>=0.5->prolexa==0.0.1) (3.1.0)\n",
            "Requirement already satisfied: importlib-metadata<4.0.0,>=3.7.0 in /usr/local/lib/python3.7/dist-packages (from konoha<5.0.0,>=4.0.0->flair>=0.5->prolexa==0.0.1) (3.10.1)\n",
            "Requirement already satisfied: zipp>=0.5 in /usr/local/lib/python3.7/dist-packages (from importlib-metadata<4.0.0,>=3.7.0->konoha<5.0.0,>=4.0.0->flair>=0.5->prolexa==0.0.1) (3.5.0)\n",
            "Requirement already satisfied: typing-extensions>=3.6.4 in /usr/local/lib/python3.7/dist-packages (from importlib-metadata<4.0.0,>=3.7.0->konoha<5.0.0,>=4.0.0->flair>=0.5->prolexa==0.0.1) (3.7.4.3)\n",
            "Requirement already satisfied: kiwisolver>=1.0.1 in /usr/local/lib/python3.7/dist-packages (from matplotlib>=2.2.3->flair>=0.5->prolexa==0.0.1) (1.3.1)\n",
            "Requirement already satisfied: cycler>=0.10 in /usr/local/lib/python3.7/dist-packages (from matplotlib>=2.2.3->flair>=0.5->prolexa==0.0.1) (0.10.0)\n",
            "Requirement already satisfied: pyparsing!=2.0.4,!=2.1.2,!=2.1.6,>=2.0.1 in /usr/local/lib/python3.7/dist-packages (from matplotlib>=2.2.3->flair>=0.5->prolexa==0.0.1) (2.4.7)\n",
            "Requirement already satisfied: click in /usr/local/lib/python3.7/dist-packages (from nltk>=3.5->prolexa==0.0.1) (7.1.2)\n",
            "Requirement already satisfied: joblib in /usr/local/lib/python3.7/dist-packages (from nltk>=3.5->prolexa==0.0.1) (1.0.1)\n",
            "Requirement already satisfied: urllib3<1.27,>=1.21.1 in /usr/local/lib/python3.7/dist-packages (from requests[socks]->gdown==3.12.2->flair>=0.5->prolexa==0.0.1) (1.24.3)\n",
            "Requirement already satisfied: certifi>=2017.4.17 in /usr/local/lib/python3.7/dist-packages (from requests[socks]->gdown==3.12.2->flair>=0.5->prolexa==0.0.1) (2021.5.30)\n",
            "Requirement already satisfied: idna<4,>=2.5 in /usr/local/lib/python3.7/dist-packages (from requests[socks]->gdown==3.12.2->flair>=0.5->prolexa==0.0.1) (2.10)\n",
            "Requirement already satisfied: charset-normalizer~=2.0.0 in /usr/local/lib/python3.7/dist-packages (from requests[socks]->gdown==3.12.2->flair>=0.5->prolexa==0.0.1) (2.0.4)\n",
            "Requirement already satisfied: anyascii in /usr/local/lib/python3.7/dist-packages (from textsearch>=0.0.21->contractions>=0.0.24->prolexa==0.0.1) (0.3.0)\n",
            "Requirement already satisfied: pyahocorasick in /usr/local/lib/python3.7/dist-packages (from textsearch>=0.0.21->contractions>=0.0.24->prolexa==0.0.1) (1.4.2)\n",
            "Requirement already satisfied: sacremoses in /usr/local/lib/python3.7/dist-packages (from transformers>=4.0.0->flair>=0.5->prolexa==0.0.1) (0.0.45)\n",
            "Requirement already satisfied: pyyaml>=5.1 in /usr/local/lib/python3.7/dist-packages (from transformers>=4.0.0->flair>=0.5->prolexa==0.0.1) (5.4.1)\n",
            "Requirement already satisfied: packaging in /usr/local/lib/python3.7/dist-packages (from transformers>=4.0.0->flair>=0.5->prolexa==0.0.1) (21.0)\n",
            "Requirement already satisfied: tokenizers<0.11,>=0.10.1 in /usr/local/lib/python3.7/dist-packages (from transformers>=4.0.0->flair>=0.5->prolexa==0.0.1) (0.10.3)\n",
            "Requirement already satisfied: wcwidth in /usr/local/lib/python3.7/dist-packages (from ftfy->flair>=0.5->prolexa==0.0.1) (0.2.5)\n",
            "Requirement already satisfied: PySocks!=1.5.7,>=1.5.6 in /usr/local/lib/python3.7/dist-packages (from requests[socks]->gdown==3.12.2->flair>=0.5->prolexa==0.0.1) (1.7.1)\n",
            "Installing collected packages: prolexa\n",
            "  Attempting uninstall: prolexa\n",
            "    Found existing installation: prolexa 0.0.1\n",
            "    Can't uninstall 'prolexa'. No files were found to uninstall.\n",
            "  Running setup.py develop for prolexa\n",
            "Successfully installed prolexa-0.0.1\n"
          ]
        }
      ]
    },
    {
      "cell_type": "code",
      "metadata": {
        "colab": {
          "base_uri": "https://localhost:8080/"
        },
        "id": "mtG2kTXTkF4V",
        "outputId": "9728e5cd-a958-45dc-c6dd-223c0e408356"
      },
      "source": [
        "!python prolexa/prolexa_plus.py"
      ],
      "execution_count": 32,
      "outputs": [
        {
          "output_type": "stream",
          "name": "stdout",
          "text": [
            "2021-09-06 10:17:39,672 --------------------------------------------------------------------------------\n",
            "2021-09-06 10:17:39,672 The model key 'pos' now maps to 'https://huggingface.co/flair/pos-english' on the HuggingFace ModelHub\n",
            "2021-09-06 10:17:39,672  - The most current version of the model is automatically downloaded from there.\n",
            "2021-09-06 10:17:39,672  - (you can alternatively manually download the original model at https://nlp.informatik.hu-berlin.de/resources/models/pos/en-pos-ontonotes-v0.5.pt)\n",
            "2021-09-06 10:17:39,672 --------------------------------------------------------------------------------\n",
            "2021-09-06 10:17:40,042 loading file /root/.flair/models/pos-english/a9a73f6cd878edce8a0fa518db76f441f1cc49c2525b2b4557af278ec2f0659e.121306ea62993d04cd1978398b68396931a39eb47754c8a06a87f325ea70ac63\n",
            "Hello! I'm ProlexaPlus! Tell me anything, ask me anything.\n",
            "> tell me about Kacper\n",
            "*** utterance(tell me about Kacper)\n",
            "*** goal(all_answers(kacper,_42))\n",
            "*** answer(I know nothing about kacper)\n",
            "I know nothing about kacper\n",
            "> C\n",
            "*** utterance(C)\n",
            "*** answer(I heard you say,  C , could you rephrase that please?)\n",
            "I heard you say,  C , could you rephrase that please?\n",
            "> exit\n",
            "*** utterance(exit)\n",
            "*** answer(I heard you say,  exit , could you rephrase that please?)\n",
            "I heard you say,  exit , could you rephrase that please?\n",
            "> exit.\n",
            "*** utterance(exit)\n",
            "*** answer(I heard you say,  exit , could you rephrase that please?)\n",
            "I heard you say,  exit , could you rephrase that please?\n",
            "> Traceback (most recent call last):\n",
            "  File \"prolexa/prolexa_plus.py\", line 30, in <module>\n",
            "    prolexa_plus_repl()\n",
            "  File \"prolexa/prolexa_plus.py\", line 27, in prolexa_plus_repl\n",
            "    ProlexaPlus().cmdloop()\n",
            "  File \"/usr/lib/python3.7/cmd.py\", line 126, in cmdloop\n",
            "    line = input(self.prompt)\n",
            "KeyboardInterrupt\n",
            "Error in atexit._run_exitfuncs:\n",
            "Traceback (most recent call last):\n",
            "  File \"/usr/local/lib/python3.7/dist-packages/pyswip/core.py\", line 1358, in cleanupProlog\n",
            "    PL_cleanup(int(_hook.exit_code or 0))\n",
            "KeyboardInterrupt\n",
            "^C\n"
          ]
        }
      ]
    },
    {
      "cell_type": "code",
      "metadata": {
        "colab": {
          "base_uri": "https://localhost:8080/"
        },
        "id": "bZS4bOZnlqP3",
        "outputId": "1f4e8803-6ec0-48ea-d417-f44d4de73c1f"
      },
      "source": [
        "!git checkout main"
      ],
      "execution_count": 33,
      "outputs": [
        {
          "output_type": "stream",
          "name": "stdout",
          "text": [
            "Switched to branch 'main'\n",
            "Your branch is up to date with 'origin/main'.\n"
          ]
        }
      ]
    },
    {
      "cell_type": "code",
      "metadata": {
        "colab": {
          "base_uri": "https://localhost:8080/"
        },
        "id": "b8-SjF6FlupM",
        "outputId": "c2a64841-0a7b-4f97-8cbb-eb8f0d267089"
      },
      "source": [
        "!swipl prolexa.pl"
      ],
      "execution_count": 34,
      "outputs": [
        {
          "output_type": "stream",
          "name": "stdout",
          "text": [
            "Welcome to SWI-Prolog (threaded, 64 bits, version 7.6.4)\n",
            "SWI-Prolog comes with ABSOLUTELY NO WARRANTY. This is free software.\n",
            "Please run ?- license. for legal details.\n",
            "\n",
            "For online help and background, visit http://www.swi-prolog.org\n",
            "For built-in help, use ?- help(Topic). or ?- apropos(Word).\n",
            "\n",
            "?- prolexa_cli.\n",
            "prolexa> tell me about Kacper\n",
            "prolexa> \"Tell me everything you know\"\u001b[29D\u001b[29C.\n",
            "\u001b[31;1m\n",
            "ERROR: Stream user_input:8:5 Syntax error: Operator expected\n",
            "\u001b[0m?- prolexa_cli.\n",
            "prolexa> \"Tell me everything you know\"\u001b[29D\u001b[29C.\n",
            "*** utterance(Tell me everything you know)\n",
            "*** goal(all_rules(_5744))\n",
            "*** answer(every human is mortal. peter is human)\n",
            "every human is mortal. peter is human\n",
            "prolexa> ^C\n",
            "^C\n",
            "\n",
            "WARNING: By typing Control-C twice, you have forced an asynchronous\n",
            "WARNING: interrupt.  Your only SAFE operations are: c(ontinue), p(id),\n",
            "WARNING: s(stack) and e(xit).  Notably a(abort) often works, but\n",
            "WARNING: leaves the system in an UNSTABLE state\n",
            "\n",
            "Action (h for help) ? ^C\n"
          ]
        }
      ]
    },
    {
      "cell_type": "code",
      "metadata": {
        "id": "qRJ2S59el3kP"
      },
      "source": [
        ""
      ],
      "execution_count": 34,
      "outputs": []
    }
  ]
}